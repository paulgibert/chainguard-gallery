{
 "cells": [
  {
   "cell_type": "code",
   "execution_count": 1,
   "metadata": {},
   "outputs": [
    {
     "data": {
      "text/plain": [
       "True"
      ]
     },
     "execution_count": 1,
     "metadata": {},
     "output_type": "execute_result"
    }
   ],
   "source": [
    "# Standard lib\n",
    "from typing import List, Dict\n",
    "import os\n",
    "import sys\n",
    "from pathlib import Path\n",
    "from dataclasses import asdict\n",
    "from datetime import datetime\n",
    "\n",
    "# 3rd party\n",
    "import pandas as pd\n",
    "from pymongo import MongoClient, ASCENDING\n",
    "from tqdm import tqdm\n",
    "import multiprocess as mp\n",
    "import matplotlib.pyplot as plt\n",
    "import numpy as np\n",
    "\n",
    "# Local\n",
    "project_root = Path.cwd().parent\n",
    "src_path = str(project_root / \"src\")\n",
    "if src_path not in sys.path:\n",
    "    sys.path.append(src_path)\n",
    "\n",
    "from analysis.remediation import find_image_remediations\n",
    "\n",
    "# Environment setup\n",
    "import dotenv\n",
    "dotenv.load_dotenv(\".env\", override=True) # Defines MONGO_URI"
   ]
  },
  {
   "cell_type": "code",
   "execution_count": 2,
   "metadata": {},
   "outputs": [],
   "source": [
    "client = MongoClient(os.environ[\"MONGO_URI\"])\n",
    "db = client[\"gallery\"]"
   ]
  },
  {
   "cell_type": "code",
   "execution_count": 9,
   "metadata": {},
   "outputs": [
    {
     "name": "stderr",
     "output_type": "stream",
     "text": [
      "Collecting remediations: 100%|██████████| 195/195 [09:26<00:00,  2.91s/it]\n"
     ]
    }
   ],
   "source": [
    "def process_image(image: dict) -> pd.DataFrame:\n",
    "    query = {\n",
    "        \"registry\": image[\"registry\"],\n",
    "        \"repository\": image[\"repository\"],\n",
    "        \"tag\": image[\"tag\"],\n",
    "    }\n",
    "    scans = db[\"cves\"].find(query).sort([(\"scan_start\", ASCENDING)])\n",
    "    rems = find_image_remediations(scans,\n",
    "                                   include_preexisting=False,\n",
    "                                   include_residual=False)\n",
    "    df = pd.DataFrame(map(asdict, rems))\n",
    "    for col in [\"registry\", \"repository\", \"tag\"]:\n",
    "        df[col] = image[col]\n",
    "    df[\"labels\"] = \"\".join(image[\"labels\"])\n",
    "    return df\n",
    "\n",
    "\n",
    "def fetch_images() -> List[Dict]:\n",
    "    return list(db[\"images\"].find())\n",
    "\n",
    "\n",
    "def expand_cve_column(df: pd.DataFrame):\n",
    "    expanded_df = pd.json_normalize(df[\"cve\"])\n",
    "    return pd.concat([df.drop(columns=[\"cve\"]), expanded_df], axis=1)\n",
    "\n",
    "\n",
    "def remediation_time_column(df: pd.DataFrame):\n",
    "    rtime = (df[\"remediated_at\"] - df[\"first_seen_at\"])\n",
    "    return rtime.dt.total_seconds() / 3600\n",
    "\n",
    "\n",
    "# Process images\n",
    "images = fetch_images()\n",
    "\n",
    "with mp.Pool(mp.cpu_count()) as pool:\n",
    "    dfs = list(tqdm(pool.imap_unordered(process_image, images),\n",
    "                    desc=f\"Collecting remediations\",\n",
    "                    total=len(images)))\n",
    "rems_df = pd.concat(dfs, axis=0, ignore_index=True)\n",
    "\n",
    "# Expand CVE column\n",
    "rems_df = expand_cve_column(rems_df)\n",
    "\n",
    "# Create remediation time column\n",
    "rems_df[\"rtime\"] = remediation_time_column(rems_df)"
   ]
  },
  {
   "cell_type": "code",
   "execution_count": 10,
   "metadata": {},
   "outputs": [
    {
     "name": "stdout",
     "output_type": "stream",
     "text": [
      "             label  num-rems  rtime-ave  rtime-std\n",
      "0       cgr-public        14   1.387154   1.311875\n",
      "1  docker-official      2981   2.607753   1.709839\n",
      "2              ubi      2170   2.587142   1.902223\n"
     ]
    }
   ],
   "source": [
    "# Plot Remediations\n",
    "\n",
    "def get_label_stats(label: str, df: pd.DataFrame) -> pd.DataFrame:\n",
    "    label_df = df[df[\"labels\"].str.contains(label)]\n",
    "    rtime = label_df[\"rtime\"]\n",
    "    return pd.DataFrame({\"label\": label,\n",
    "                         \"num-rems\": rtime.count(),\n",
    "                         \"rtime-ave\": rtime.mean() / 24,\n",
    "                         \"rtime-std\": rtime.std() / 24}, index=[0])\n",
    "\n",
    "\n",
    "def get_stats(labels: List[str], df: pd.DataFrame) -> pd.DataFrame:\n",
    "    dfs = [get_label_stats(l, df) for l in labels]\n",
    "    return pd.concat(dfs, axis=0, ignore_index=True)\n",
    "\n",
    "\n",
    "def get_series(label: str, df: pd.DataFrame) -> np.ndarray:\n",
    "    label_df = df[df[\"labels\"].str.contains(label)]\n",
    "    return label_df[\"rtime\"].to_numpy()\n",
    "\n",
    "\n",
    "labels = [\"cgr-public\", \"docker-official\", \"ubi\"]\n",
    "\n",
    "stats = get_stats(labels, rems_df)\n",
    "print(stats)\n",
    "# for l in labels:\n",
    "#     x = get_series(l, rems_df) / 24\n",
    "#     plt.hist(x, label=l)\n",
    "\n",
    "# plt.legend()\n",
    "# plt.xlabel(\"Remediation Time (Days)\")\n",
    "# plt.ylabel(\"Num CVEs\")"
   ]
  },
  {
   "cell_type": "code",
   "execution_count": 42,
   "metadata": {},
   "outputs": [
    {
     "ename": "IndexError",
     "evalue": "index 109 is out of bounds for axis 0 with size 14",
     "output_type": "error",
     "traceback": [
      "\u001b[0;31m---------------------------------------------------------------------------\u001b[0m",
      "\u001b[0;31mIndexError\u001b[0m                                Traceback (most recent call last)",
      "Cell \u001b[0;32mIn[42], line 12\u001b[0m\n\u001b[1;32m     10\u001b[0m \u001b[38;5;28;01mfor\u001b[39;00m _, row \u001b[38;5;129;01min\u001b[39;00m discovered\u001b[38;5;241m.\u001b[39miterrows():\n\u001b[1;32m     11\u001b[0m     i, j \u001b[38;5;241m=\u001b[39m \u001b[38;5;28mint\u001b[39m(row[\u001b[38;5;124m\"\u001b[39m\u001b[38;5;124mfirst_seen_idx\u001b[39m\u001b[38;5;124m\"\u001b[39m]), \u001b[38;5;28mint\u001b[39m(row[\u001b[38;5;124m\"\u001b[39m\u001b[38;5;124mremediated_at_idx\u001b[39m\u001b[38;5;124m\"\u001b[39m])\n\u001b[0;32m---> 12\u001b[0m     y \u001b[38;5;241m=\u001b[39m \u001b[38;5;28mmax\u001b[39m(plotted[i], \u001b[43mplotted\u001b[49m\u001b[43m[\u001b[49m\u001b[43mj\u001b[49m\u001b[43m]\u001b[49m)\n\u001b[1;32m     13\u001b[0m     plotted[i] \u001b[38;5;241m=\u001b[39m y \u001b[38;5;241m+\u001b[39m \u001b[38;5;241m1\u001b[39m\n\u001b[1;32m     14\u001b[0m     plotted[j] \u001b[38;5;241m=\u001b[39m y \u001b[38;5;241m+\u001b[39m \u001b[38;5;241m1\u001b[39m\n",
      "\u001b[0;31mIndexError\u001b[0m: index 109 is out of bounds for axis 0 with size 14"
     ]
    }
   ],
   "source": [
    "filter = rems_df[\"labels\"].str.contains(\"cgr-public\")\n",
    "\n",
    "discovered = rems_df[filter][[\"first_seen_at\", \"remediated_at\"]].sort_values(\"first_seen_at\", axis=0, ascending=True)\n",
    "discovered[\"first_seen_at\"] = discovered[\"first_seen_at\"].dt.floor(\"h\")\n",
    "discovered[\"remediated_at\"] = discovered[\"remediated_at\"].dt.floor(\"h\")\n",
    "num_hours = (discovered[\"last_seen_at\"].max() - discovered[\"first_seen_at\"].min()).dt.total_seconds() / 3600\n",
    "discovered[\"first_seen_idx\"] = (discovered[\"first_seen_at\"] - discovered[\"first_seen_at\"].min()).dt.total_seconds() / 3600\n",
    "discovered[\"remediated_at_idx\"] = (discovered[\"remediated_at\"] - discovered[\"first_seen_at\"].min()).dt.total_seconds() / 3600\n",
    "plotted = np.zeros((discovered[\"last_seen_at\"].max() - discovered[\"first_seen_at\"].min()))\n",
    "\n",
    "for _, row in discovered.iterrows():\n",
    "    i, j = int(row[\"first_seen_idx\"]), int(row[\"remediated_at_idx\"])\n",
    "    y = max(plotted[i], plotted[j])\n",
    "    plotted[i] = y + 1\n",
    "    plotted[j] = y + 1\n",
    "    plt.plot([i, j], [y, y])"
   ]
  },
  {
   "cell_type": "code",
   "execution_count": null,
   "metadata": {},
   "outputs": [],
   "source": [
    "images"
   ]
  },
  {
   "cell_type": "code",
   "execution_count": null,
   "metadata": {},
   "outputs": [],
   "source": [
    "def mean_rtime(rems_df: pd.DataFrame, label: str) -> float:\n",
    "    label_df = rems_df[rems_df[\"labels\"].str.contains(label)]\n",
    "    return label_df[\"rtime\"].mean(), label_df[\"rtime\"].std()\n",
    "\n",
    "labels = [\"cgr-public\"]\n",
    "for l in labels:\n",
    "    print(mean_rtime(rems_df, l))"
   ]
  },
  {
   "cell_type": "code",
   "execution_count": null,
   "metadata": {},
   "outputs": [],
   "source": [
    "\n",
    "rtime_df = rems_df.groupby([\"registry\", \"repository\", \"tag\"])[\"rtime\"].mean().reset_index()"
   ]
  },
  {
   "cell_type": "code",
   "execution_count": null,
   "metadata": {},
   "outputs": [],
   "source": [
    "rtime_df.groupby([\"registry\"])[\"rtime\"].mean().sort_values(ascending=True)"
   ]
  },
  {
   "cell_type": "code",
   "execution_count": null,
   "metadata": {},
   "outputs": [],
   "source": [
    "print(\"Docker.io Official\")\n",
    "docker_mask = rtime_df[\"registry\"] == \"docker.io\"\n",
    "ubuntu_mask = rtime_df[\"repository\"].str.contains(\"ubuntu\")\n",
    "rtime_df[docker_mask & ~ubuntu_mask][\"rtime\"].mean()"
   ]
  },
  {
   "cell_type": "code",
   "execution_count": null,
   "metadata": {},
   "outputs": [],
   "source": [
    "print(\"Docker.io Ubuntu Chiselled\")\n",
    "rtime_df[rtime_df[\"repository\"].str.contains(\"ubuntu\")][\"rtime\"].mean()"
   ]
  },
  {
   "cell_type": "code",
   "execution_count": null,
   "metadata": {},
   "outputs": [],
   "source": [
    "rems_df"
   ]
  },
  {
   "cell_type": "code",
   "execution_count": null,
   "metadata": {},
   "outputs": [],
   "source": [
    "rems_df"
   ]
  }
 ],
 "metadata": {
  "kernelspec": {
   "display_name": ".env",
   "language": "python",
   "name": "python3"
  },
  "language_info": {
   "codemirror_mode": {
    "name": "ipython",
    "version": 3
   },
   "file_extension": ".py",
   "mimetype": "text/x-python",
   "name": "python",
   "nbconvert_exporter": "python",
   "pygments_lexer": "ipython3",
   "version": "3.10.12"
  }
 },
 "nbformat": 4,
 "nbformat_minor": 2
}
