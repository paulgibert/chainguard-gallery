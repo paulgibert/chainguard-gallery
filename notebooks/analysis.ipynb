{
 "cells": [
  {
   "cell_type": "code",
   "execution_count": 1,
   "metadata": {},
   "outputs": [],
   "source": [
    "# Imports and Environment Setup\n",
    "\n",
    "from pathlib import Path\n",
    "import sys\n",
    "import os\n",
    "import pandas as pd\n",
    "\n",
    "# Environment setup\n",
    "import dotenv\n",
    "dotenv.load_dotenv(\".env\", override=True) # Defines MONGO_URI\n",
    "\n",
    "# Local\n",
    "project_root = Path.cwd().parent\n",
    "src_path = str(project_root / \"src\")\n",
    "if src_path not in sys.path:\n",
    "    sys.path.append(src_path)\n",
    "\n",
    "from analysis.fetch import fetch_images, global_latest_scan\n",
    "from analysis.remediation import fetch_remediations\n",
    "from analysis.alpine import list_cgr_alpine\n",
    "from analysis.stat import RemediationTable\n",
    "from analysis.plot.hist import rtime_hist\n",
    "from analysis.plot.timeline import rtime_timeline"
   ]
  },
  {
   "cell_type": "code",
   "execution_count": 2,
   "metadata": {},
   "outputs": [
    {
     "name": "stdout",
     "output_type": "stream",
     "text": [
      "Found 66501 scans ending on on 2024-04-30 16:04:22.591000\n"
     ]
    }
   ],
   "source": [
    "# Collect Remediations\n",
    "\n",
    "CSV_FILE = \"remediations.csv\"\n",
    "\n",
    "if not os.path.exists(CSV_FILE):\n",
    "    tab = fetch_remediations()\n",
    "    tab._df.to_csv(CSV_FILE, index=False, escapechar=\"\\\\\")\n",
    "\n",
    "df = pd.read_csv(CSV_FILE)\n",
    "df[\"first_seen_at\"] = pd.to_datetime(df[\"first_seen_at\"])\n",
    "df[\"remediated_at\"] = pd.to_datetime(df[\"remediated_at\"])\n",
    "tab = RemediationTable(df)\n",
    "\n",
    "# Filter out Chainguard images based on alpine\n",
    "OMIT_CSV = \"omit.csv\"\n",
    "\n",
    "omit_df = pd.read_csv(OMIT_CSV)\n",
    "for _, row in omit_df.iterrows():\n",
    "    tab = tab.filter(repository=row[\"repository\"],\n",
    "                     purge=True)\n",
    "\n",
    "print(f\"Found {tab._df.shape[0]} scans ending on on {tab.latest_remediation()}\")"
   ]
  },
  {
   "cell_type": "code",
   "execution_count": 10,
   "metadata": {},
   "outputs": [
    {
     "name": "stderr",
     "output_type": "stream",
     "text": [
      "Resolving edge-cases: 100%|██████████| 169/169 [00:00<00:00, 3618.94it/s]"
     ]
    },
    {
     "name": "stdout",
     "output_type": "stream",
     "text": [
      "N Discovered: 154\n",
      "N Remediated: 135\n",
      "Mean Remediation Time: 2.67 days\n"
     ]
    },
    {
     "name": "stderr",
     "output_type": "stream",
     "text": [
      "\n"
     ]
    }
   ],
   "source": [
    "cgr_tab = tab.filter(registry=\"cgr.dev\")\n",
    "n_discovered = cgr_tab.discovered().shape[0]\n",
    "\n",
    "cgr_tab = cgr_tab.resolve_edge_cases(remediated_at=False)\n",
    "n_remediated = cgr_tab.remediated().shape[0]\n",
    "rtime = cgr_tab.remediated()[\"rtime\"].mean()\n",
    "\n",
    "print(f\"N Discovered: {n_discovered}\")\n",
    "print(f\"N Remediated: {n_remediated}\")\n",
    "print(f\"Mean Remediation Time: {rtime / 24:.2f} days\")"
   ]
  },
  {
   "cell_type": "code",
   "execution_count": 11,
   "metadata": {},
   "outputs": [
    {
     "data": {
      "text/plain": [
       "(<Figure size 640x480 with 1 Axes>,\n",
       " <Axes: xlabel='Days', ylabel='Number of CVEs'>)"
      ]
     },
     "execution_count": 11,
     "metadata": {},
     "output_type": "execute_result"
    },
    {
     "data": {
      "image/png": "[encoded data removed]",
      "text/plain": [
       "<Figure size 640x480 with 1 Axes>"
      ]
     },
     "metadata": {},
     "output_type": "display_data"
    }
   ],
   "source": [
    "rtime_hist(cgr_tab)"
   ]
  },
  {
   "cell_type": "code",
   "execution_count": null,
   "metadata": {},
   "outputs": [],
   "source": [
    "# cgr_trimmed_df = tab.filter(registry=\"cgr.dev\")._df\n",
    "# cgr_trimmed_df[\"repository\"] = cgr_trimmed_df[\"repository\"].str.replace(\"chainguard/\", \"\")\n",
    "# cgr_trimmed_df = cgr_trimmed_df[cgr_trimmed_df[\"repository\"].isin(images)]\n",
    "# cgr_trimmed_table = RemediationTable(cgr_trimmed_df)\n",
    "cgr_tab = tab.filter(label=\"cgr-public\")\n",
    "rtime_timeline(cgr_tab, figsize=(7, 20),\n",
    "               include_cve_ids=False)"
   ]
  },
  {
   "cell_type": "markdown",
   "metadata": {},
   "source": [
    "keycloak:\n",
    "    - GHSA-f8h5-v2vg-46rr (CVE-2024-2700)\n",
    "        > published 15 days ago\n",
    "        > fixed 6 hours ago"
   ]
  }
 ],
 "metadata": {
  "kernelspec": {
   "display_name": "env",
   "language": "python",
   "name": "python3"
  },
  "language_info": {
   "codemirror_mode": {
    "name": "ipython",
    "version": 3
   },
   "file_extension": ".py",
   "mimetype": "text/x-python",
   "name": "python",
   "nbconvert_exporter": "python",
   "pygments_lexer": "ipython3",
   "version": "3.10.12"
  }
 },
 "nbformat": 4,
 "nbformat_minor": 2
}
