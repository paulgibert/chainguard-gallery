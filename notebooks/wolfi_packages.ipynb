{
 "cells": [
  {
   "cell_type": "code",
   "execution_count": 10,
   "metadata": {},
   "outputs": [
    {
     "data": {
      "text/plain": [
       "True"
      ]
     },
     "execution_count": 10,
     "metadata": {},
     "output_type": "execute_result"
    }
   ],
   "source": [
    "import os\n",
    "import pandas as pd\n",
    "from pymongo import MongoClient\n",
    "from gryft.scanning.scanner import ImageScanner\n",
    "from gryft.scanning.image import Image\n",
    "\n",
    "import dotenv\n",
    "dotenv.load_dotenv(\".env\", override=True) # Defines MONGO_URI"
   ]
  },
  {
   "cell_type": "code",
   "execution_count": 5,
   "metadata": {},
   "outputs": [],
   "source": [
    "client = MongoClient(os.environ[\"MONGO_URI\"])\n",
    "db = client[\"gallery\"]\n",
    "\n",
    "image_dicts = list(db[\"images\"].find())\n",
    "images = []\n",
    "for image_dict in image_dicts:\n",
    "    if image_dict[\"registry\"] != \"cgr.dev\":\n",
    "        continue\n",
    "    images.append(Image(image_dict[\"registry\"],\n",
    "                  image_dict[\"repository\"],\n",
    "                  image_dict[\"tag\"]))"
   ]
  },
  {
   "cell_type": "code",
   "execution_count": 20,
   "metadata": {},
   "outputs": [
    {
     "data": {
      "text/plain": [
       "[{'_id': ObjectId('66049fecd8cecdbff4d94ec9'),\n",
       "  'publisher': 'docker',\n",
       "  'registry': 'docker.io',\n",
       "  'repository': 'nginx',\n",
       "  'tag': 'latest',\n",
       "  'labels': ['docker-official']},\n",
       " {'_id': ObjectId('66049fecd8cecdbff4d94eca'),\n",
       "  'publisher': 'docker',\n",
       "  'registry': 'docker.io',\n",
       "  'repository': 'postgres',\n",
       "  'tag': 'latest',\n",
       "  'labels': ['docker-official']},\n",
       " {'_id': ObjectId('66049fecd8cecdbff4d94ecb'),\n",
       "  'publisher': 'docker',\n",
       "  'registry': 'docker.io',\n",
       "  'repository': 'alpine',\n",
       "  'tag': 'latest',\n",
       "  'labels': ['docker-official']},\n",
       " {'_id': ObjectId('66049fecd8cecdbff4d94ecc'),\n",
       "  'publisher': 'docker',\n",
       "  'registry': 'docker.io',\n",
       "  'repository': 'memcached',\n",
       "  'tag': 'latest',\n",
       "  'labels': ['docker-official']},\n",
       " {'_id': ObjectId('66049fecd8cecdbff4d94ecd'),\n",
       "  'publisher': 'docker',\n",
       "  'registry': 'docker.io',\n",
       "  'repository': 'redis',\n",
       "  'tag': 'latest',\n",
       "  'labels': ['docker-official']},\n",
       " {'_id': ObjectId('66049fecd8cecdbff4d94ece'),\n",
       "  'publisher': 'docker',\n",
       "  'registry': 'docker.io',\n",
       "  'repository': 'busybox',\n",
       "  'tag': 'latest',\n",
       "  'labels': ['docker-official']},\n",
       " {'_id': ObjectId('66049fecd8cecdbff4d94ecf'),\n",
       "  'publisher': 'docker',\n",
       "  'registry': 'docker.io',\n",
       "  'repository': 'mongo',\n",
       "  'tag': 'latest',\n",
       "  'labels': ['docker-official']},\n",
       " {'_id': ObjectId('66049fecd8cecdbff4d94ed0'),\n",
       "  'publisher': 'docker',\n",
       "  'registry': 'docker.io',\n",
       "  'repository': 'ubuntu',\n",
       "  'tag': 'latest',\n",
       "  'labels': ['docker-official']},\n",
       " {'_id': ObjectId('66049fecd8cecdbff4d94ed1'),\n",
       "  'publisher': 'docker',\n",
       "  'registry': 'docker.io',\n",
       "  'repository': 'hello-world',\n",
       "  'tag': 'latest',\n",
       "  'labels': ['docker-official']},\n",
       " {'_id': ObjectId('66049fecd8cecdbff4d94ed2'),\n",
       "  'publisher': 'docker',\n",
       "  'registry': 'docker.io',\n",
       "  'repository': 'openjdk',\n",
       "  'tag': 'latest',\n",
       "  'labels': ['docker-official']},\n",
       " {'_id': ObjectId('66049fecd8cecdbff4d94ed3'),\n",
       "  'publisher': 'docker',\n",
       "  'registry': 'docker.io',\n",
       "  'repository': 'node',\n",
       "  'tag': 'latest',\n",
       "  'labels': ['docker-official']},\n",
       " {'_id': ObjectId('66049fecd8cecdbff4d94ed4'),\n",
       "  'publisher': 'docker',\n",
       "  'registry': 'docker.io',\n",
       "  'repository': 'httpd',\n",
       "  'tag': 'latest',\n",
       "  'labels': ['docker-official']},\n",
       " {'_id': ObjectId('66049fecd8cecdbff4d94ed5'),\n",
       "  'publisher': 'docker',\n",
       "  'registry': 'docker.io',\n",
       "  'repository': 'wordpress',\n",
       "  'tag': 'latest',\n",
       "  'labels': ['docker-official']},\n",
       " {'_id': ObjectId('66049fecd8cecdbff4d94ed6'),\n",
       "  'publisher': 'docker',\n",
       "  'registry': 'docker.io',\n",
       "  'repository': 'debian',\n",
       "  'tag': 'latest',\n",
       "  'labels': ['docker-official']},\n",
       " {'_id': ObjectId('66049fecd8cecdbff4d94ed7'),\n",
       "  'publisher': 'docker',\n",
       "  'registry': 'docker.io',\n",
       "  'repository': 'ruby',\n",
       "  'tag': 'latest',\n",
       "  'labels': ['docker-official']},\n",
       " {'_id': ObjectId('66049fecd8cecdbff4d94ed8'),\n",
       "  'publisher': 'docker',\n",
       "  'registry': 'docker.io',\n",
       "  'repository': 'registry',\n",
       "  'tag': 'latest',\n",
       "  'labels': ['docker-official']},\n",
       " {'_id': ObjectId('66049fecd8cecdbff4d94ed9'),\n",
       "  'publisher': 'docker',\n",
       "  'registry': 'docker.io',\n",
       "  'repository': 'mariadb',\n",
       "  'tag': 'latest',\n",
       "  'labels': ['docker-official']},\n",
       " {'_id': ObjectId('66049fecd8cecdbff4d94eda'),\n",
       "  'publisher': 'docker',\n",
       "  'registry': 'docker.io',\n",
       "  'repository': 'centos',\n",
       "  'tag': 'latest',\n",
       "  'labels': ['docker-official']},\n",
       " {'_id': ObjectId('66049fecd8cecdbff4d94edb'),\n",
       "  'publisher': 'docker',\n",
       "  'registry': 'docker.io',\n",
       "  'repository': 'nextcloud',\n",
       "  'tag': 'latest',\n",
       "  'labels': ['docker-official']},\n",
       " {'_id': ObjectId('66049fecd8cecdbff4d94edc'),\n",
       "  'publisher': 'docker',\n",
       "  'registry': 'docker.io',\n",
       "  'repository': 'amazonlinux',\n",
       "  'tag': 'latest',\n",
       "  'labels': ['docker-official']},\n",
       " {'_id': ObjectId('66049fecd8cecdbff4d94edd'),\n",
       "  'publisher': 'docker',\n",
       "  'registry': 'docker.io',\n",
       "  'repository': 'eclipse-mosquitto',\n",
       "  'tag': 'latest',\n",
       "  'labels': ['docker-official']},\n",
       " {'_id': ObjectId('66049fecd8cecdbff4d94ede'),\n",
       "  'publisher': 'docker',\n",
       "  'registry': 'docker.io',\n",
       "  'repository': 'mysql',\n",
       "  'tag': 'latest',\n",
       "  'labels': ['docker-official']},\n",
       " {'_id': ObjectId('66049fecd8cecdbff4d94edf'),\n",
       "  'publisher': 'docker',\n",
       "  'registry': 'docker.io',\n",
       "  'repository': 'influxdb',\n",
       "  'tag': 'latest',\n",
       "  'labels': ['docker-official']},\n",
       " {'_id': ObjectId('66049fecd8cecdbff4d94ee0'),\n",
       "  'publisher': 'docker',\n",
       "  'registry': 'docker.io',\n",
       "  'repository': 'php',\n",
       "  'tag': 'latest',\n",
       "  'labels': ['docker-official']},\n",
       " {'_id': ObjectId('66049fecd8cecdbff4d94ee1'),\n",
       "  'publisher': 'docker',\n",
       "  'registry': 'docker.io',\n",
       "  'repository': 'haproxy',\n",
       "  'tag': 'latest',\n",
       "  'labels': ['docker-official']},\n",
       " {'_id': ObjectId('66049fecd8cecdbff4d94ee2'),\n",
       "  'publisher': 'docker',\n",
       "  'registry': 'docker.io',\n",
       "  'repository': 'sonarqube',\n",
       "  'tag': 'latest',\n",
       "  'labels': ['docker-official']},\n",
       " {'_id': ObjectId('66049fecd8cecdbff4d94ee3'),\n",
       "  'publisher': 'docker',\n",
       "  'registry': 'docker.io',\n",
       "  'repository': 'telegraf',\n",
       "  'tag': 'latest',\n",
       "  'labels': ['docker-official']},\n",
       " {'_id': ObjectId('66049fecd8cecdbff4d94ee4'),\n",
       "  'publisher': 'docker',\n",
       "  'registry': 'docker.io',\n",
       "  'repository': 'adminer',\n",
       "  'tag': 'latest',\n",
       "  'labels': ['docker-official']},\n",
       " {'_id': ObjectId('66049fecd8cecdbff4d94ee5'),\n",
       "  'publisher': 'docker',\n",
       "  'registry': 'docker.io',\n",
       "  'repository': 'tomcat',\n",
       "  'tag': 'latest',\n",
       "  'labels': ['docker-official']},\n",
       " {'_id': ObjectId('66049fecd8cecdbff4d94ee6'),\n",
       "  'publisher': 'docker',\n",
       "  'registry': 'docker.io',\n",
       "  'repository': 'maven',\n",
       "  'tag': 'latest',\n",
       "  'labels': ['docker-official']},\n",
       " {'_id': ObjectId('66049fecd8cecdbff4d94ee7'),\n",
       "  'publisher': 'docker',\n",
       "  'registry': 'docker.io',\n",
       "  'repository': 'zookeeper',\n",
       "  'tag': 'latest',\n",
       "  'labels': ['docker-official']},\n",
       " {'_id': ObjectId('66049fecd8cecdbff4d94ee8'),\n",
       "  'publisher': 'docker',\n",
       "  'registry': 'docker.io',\n",
       "  'repository': 'bash',\n",
       "  'tag': 'latest',\n",
       "  'labels': ['docker-official']},\n",
       " {'_id': ObjectId('66049fecd8cecdbff4d94ee9'),\n",
       "  'publisher': 'docker',\n",
       "  'registry': 'docker.io',\n",
       "  'repository': 'kong',\n",
       "  'tag': 'latest',\n",
       "  'labels': ['docker-official']},\n",
       " {'_id': ObjectId('66049fecd8cecdbff4d94eea'),\n",
       "  'publisher': 'docker',\n",
       "  'registry': 'docker.io',\n",
       "  'repository': 'ghost',\n",
       "  'tag': 'latest',\n",
       "  'labels': ['docker-official']},\n",
       " {'_id': ObjectId('66049fecd8cecdbff4d94eeb'),\n",
       "  'publisher': 'microsoft',\n",
       "  'registry': 'mcr.microsoft.com',\n",
       "  'repository': 'dotnet/runtime',\n",
       "  'tag': '6.0-jammy-chiseled',\n",
       "  'labels': ['chiselled', 'mcr-dotnet']},\n",
       " {'_id': ObjectId('66049fecd8cecdbff4d94eec'),\n",
       "  'publisher': 'microsoft',\n",
       "  'registry': 'mcr.microsoft.com',\n",
       "  'repository': 'dotnet/runtime',\n",
       "  'tag': '6.0-jammy-chiseled-extra',\n",
       "  'labels': ['chiselled', 'mcr-dotnet']},\n",
       " {'_id': ObjectId('66049fecd8cecdbff4d94eed'),\n",
       "  'publisher': 'microsoft',\n",
       "  'registry': 'mcr.microsoft.com',\n",
       "  'repository': 'dotnet/runtime',\n",
       "  'tag': '7.0-jammy-chiseled',\n",
       "  'labels': ['chiselled', 'mcr-dotnet']},\n",
       " {'_id': ObjectId('66049fecd8cecdbff4d94eee'),\n",
       "  'publisher': 'microsoft',\n",
       "  'registry': 'mcr.microsoft.com',\n",
       "  'repository': 'dotnet/runtime',\n",
       "  'tag': '7.0-jammy-chiseled-extra',\n",
       "  'labels': ['chiselled', 'mcr-dotnet']},\n",
       " {'_id': ObjectId('66049fecd8cecdbff4d94eef'),\n",
       "  'publisher': 'microsoft',\n",
       "  'registry': 'mcr.microsoft.com',\n",
       "  'repository': 'dotnet/runtime',\n",
       "  'tag': '8.0-jammy-chiseled',\n",
       "  'labels': ['chiselled', 'mcr-dotnet']},\n",
       " {'_id': ObjectId('66049fecd8cecdbff4d94ef0'),\n",
       "  'publisher': 'microsoft',\n",
       "  'registry': 'mcr.microsoft.com',\n",
       "  'repository': 'dotnet/runtime',\n",
       "  'tag': '8.0-jammy-chiseled-extra',\n",
       "  'labels': ['chiselled', 'mcr-dotnet']},\n",
       " {'_id': ObjectId('66049fecd8cecdbff4d94ef1'),\n",
       "  'publisher': 'microsoft',\n",
       "  'registry': 'mcr.microsoft.com',\n",
       "  'repository': 'dotnet/runtime-deps',\n",
       "  'tag': '6.0-jammy-chiseled',\n",
       "  'labels': ['chiselled', 'mcr-dotnet']},\n",
       " {'_id': ObjectId('66049fecd8cecdbff4d94ef2'),\n",
       "  'publisher': 'microsoft',\n",
       "  'registry': 'mcr.microsoft.com',\n",
       "  'repository': 'dotnet/runtime-deps',\n",
       "  'tag': '6.0-jammy-chiseled-extra',\n",
       "  'labels': ['chiselled', 'mcr-dotnet']},\n",
       " {'_id': ObjectId('66049fecd8cecdbff4d94ef3'),\n",
       "  'publisher': 'microsoft',\n",
       "  'registry': 'mcr.microsoft.com',\n",
       "  'repository': 'dotnet/runtime-deps',\n",
       "  'tag': '7.0-jammy-chiseled',\n",
       "  'labels': ['chiselled', 'mcr-dotnet']},\n",
       " {'_id': ObjectId('66049fecd8cecdbff4d94ef4'),\n",
       "  'publisher': 'microsoft',\n",
       "  'registry': 'mcr.microsoft.com',\n",
       "  'repository': 'dotnet/runtime-deps',\n",
       "  'tag': '7.0-jammy-chiseled-extra',\n",
       "  'labels': ['chiselled', 'mcr-dotnet']},\n",
       " {'_id': ObjectId('66049fecd8cecdbff4d94ef5'),\n",
       "  'publisher': 'microsoft',\n",
       "  'registry': 'mcr.microsoft.com',\n",
       "  'repository': 'dotnet/runtime-deps',\n",
       "  'tag': '8.0-jammy-chiseled',\n",
       "  'labels': ['chiselled', 'mcr-dotnet']},\n",
       " {'_id': ObjectId('66049fecd8cecdbff4d94ef6'),\n",
       "  'publisher': 'microsoft',\n",
       "  'registry': 'mcr.microsoft.com',\n",
       "  'repository': 'dotnet/runtime-deps',\n",
       "  'tag': '8.0-jammy-chiseled-extra',\n",
       "  'labels': ['chiselled', 'mcr-dotnet']},\n",
       " {'_id': ObjectId('66049fecd8cecdbff4d94ef7'),\n",
       "  'publisher': 'microsoft',\n",
       "  'registry': 'mcr.microsoft.com',\n",
       "  'repository': 'dotnet/aspnet',\n",
       "  'tag': '6.0-jammy-chiseled',\n",
       "  'labels': ['chiselled', 'mcr-dotnet']},\n",
       " {'_id': ObjectId('66049fecd8cecdbff4d94ef8'),\n",
       "  'publisher': 'microsoft',\n",
       "  'registry': 'mcr.microsoft.com',\n",
       "  'repository': 'dotnet/aspnet',\n",
       "  'tag': '6.0-jammy-chiseled-extra',\n",
       "  'labels': ['chiselled', 'mcr-dotnet']},\n",
       " {'_id': ObjectId('66049fecd8cecdbff4d94ef9'),\n",
       "  'publisher': 'microsoft',\n",
       "  'registry': 'mcr.microsoft.com',\n",
       "  'repository': 'dotnet/aspnet',\n",
       "  'tag': '7.0-jammy-chiseled',\n",
       "  'labels': ['chiselled', 'mcr-dotnet']},\n",
       " {'_id': ObjectId('66049fecd8cecdbff4d94efa'),\n",
       "  'publisher': 'microsoft',\n",
       "  'registry': 'mcr.microsoft.com',\n",
       "  'repository': 'dotnet/aspnet',\n",
       "  'tag': '7.0-jammy-chiseled-extra',\n",
       "  'labels': ['chiselled', 'mcr-dotnet']},\n",
       " {'_id': ObjectId('66049fecd8cecdbff4d94efb'),\n",
       "  'publisher': 'microsoft',\n",
       "  'registry': 'mcr.microsoft.com',\n",
       "  'repository': 'dotnet/aspnet',\n",
       "  'tag': '8.0-jammy-chiseled',\n",
       "  'labels': ['chiselled', 'mcr-dotnet']},\n",
       " {'_id': ObjectId('66049fecd8cecdbff4d94efc'),\n",
       "  'publisher': 'microsoft',\n",
       "  'registry': 'mcr.microsoft.com',\n",
       "  'repository': 'dotnet/aspnet',\n",
       "  'tag': '8.0-jammy-chiseled-composite',\n",
       "  'labels': ['chiselled', 'mcr-dotnet']},\n",
       " {'_id': ObjectId('66049fecd8cecdbff4d94efd'),\n",
       "  'publisher': 'microsoft',\n",
       "  'registry': 'mcr.microsoft.com',\n",
       "  'repository': 'dotnet/aspnet',\n",
       "  'tag': '8.0-jammy-chiseled-composite-extra',\n",
       "  'labels': ['chiselled', 'mcr-dotnet']},\n",
       " {'_id': ObjectId('66049fecd8cecdbff4d94efe'),\n",
       "  'publisher': 'microsoft',\n",
       "  'registry': 'mcr.microsoft.com',\n",
       "  'repository': 'dotnet/aspnet',\n",
       "  'tag': '8.0-jammy-chiseled-extra',\n",
       "  'labels': ['chiselled', 'mcr-dotnet']},\n",
       " {'_id': ObjectId('66049fecd8cecdbff4d94eff'),\n",
       "  'publisher': 'canonical',\n",
       "  'registry': 'docker.io',\n",
       "  'repository': 'ubuntu/jre',\n",
       "  'tag': 'edge',\n",
       "  'labels': ['chiseled', 'canonical']},\n",
       " {'_id': ObjectId('66049fecd8cecdbff4d94f00'),\n",
       "  'publisher': 'canonical',\n",
       "  'registry': 'docker.io',\n",
       "  'repository': 'ubuntu/dotnet-aspnet',\n",
       "  'tag': 'edge',\n",
       "  'labels': ['chiselled', 'canonical']},\n",
       " {'_id': ObjectId('66049fecd8cecdbff4d94f01'),\n",
       "  'publisher': 'canonical',\n",
       "  'registry': 'docker.io',\n",
       "  'repository': 'ubuntu/dotnet-deps',\n",
       "  'tag': 'edge',\n",
       "  'labels': ['chiselled', 'canonical']},\n",
       " {'_id': ObjectId('66049fecd8cecdbff4d94f02'),\n",
       "  'publisher': 'canonical',\n",
       "  'registry': 'docker.io',\n",
       "  'repository': 'ubuntu/dotnet-runtime',\n",
       "  'tag': 'edge',\n",
       "  'labels': ['chiselled', 'canonical']},\n",
       " {'_id': ObjectId('66049fecd8cecdbff4d94f03'),\n",
       "  'publisher': 'canonical',\n",
       "  'registry': 'docker.io',\n",
       "  'repository': 'ubuntu/python',\n",
       "  'tag': '3.8-20.04_edge',\n",
       "  'labels': ['chiselled', 'canonical']},\n",
       " {'_id': ObjectId('66049fecd8cecdbff4d94f04'),\n",
       "  'publisher': 'redhat',\n",
       "  'registry': 'registry.access.redhat.com',\n",
       "  'repository': 'ubi7/ruby-30',\n",
       "  'tag': 'latest',\n",
       "  'labels': ['ubi']},\n",
       " {'_id': ObjectId('66049fecd8cecdbff4d94f05'),\n",
       "  'publisher': 'redhat',\n",
       "  'registry': 'registry.access.redhat.com',\n",
       "  'repository': 'ubi7/python-38',\n",
       "  'tag': 'latest',\n",
       "  'labels': ['ubi']},\n",
       " {'_id': ObjectId('66049fecd8cecdbff4d94f06'),\n",
       "  'publisher': 'redhat',\n",
       "  'registry': 'registry.access.redhat.com',\n",
       "  'repository': 'ubi7/nginx-120',\n",
       "  'tag': 'latest',\n",
       "  'labels': ['ubi']},\n",
       " {'_id': ObjectId('66049fecd8cecdbff4d94f07'),\n",
       "  'publisher': 'redhat',\n",
       "  'registry': 'registry.access.redhat.com',\n",
       "  'repository': 'ubi7/go-toolset',\n",
       "  'tag': 'latest',\n",
       "  'labels': ['ubi']},\n",
       " {'_id': ObjectId('66049fecd8cecdbff4d94f08'),\n",
       "  'publisher': 'redhat',\n",
       "  'registry': 'registry.access.redhat.com',\n",
       "  'repository': 'ubi7/php-73',\n",
       "  'tag': 'latest',\n",
       "  'labels': ['ubi']},\n",
       " {'_id': ObjectId('66049fecd8cecdbff4d94f09'),\n",
       "  'publisher': 'redhat',\n",
       "  'registry': 'registry.access.redhat.com',\n",
       "  'repository': 'ubi8/openssl',\n",
       "  'tag': 'latest',\n",
       "  'labels': ['ubi']},\n",
       " {'_id': ObjectId('66049fecd8cecdbff4d94f0a'),\n",
       "  'publisher': 'redhat',\n",
       "  'registry': 'registry.access.redhat.com',\n",
       "  'repository': 'ubi8/ruby-31',\n",
       "  'tag': 'latest',\n",
       "  'labels': ['ubi']},\n",
       " {'_id': ObjectId('66049fecd8cecdbff4d94f0b'),\n",
       "  'publisher': 'redhat',\n",
       "  'registry': 'registry.access.redhat.com',\n",
       "  'repository': 'ubi8/python-311',\n",
       "  'tag': 'latest',\n",
       "  'labels': ['ubi']},\n",
       " {'_id': ObjectId('66049fecd8cecdbff4d94f0c'),\n",
       "  'publisher': 'redhat',\n",
       "  'registry': 'registry.access.redhat.com',\n",
       "  'repository': 'ubi8/openjdk-17',\n",
       "  'tag': 'latest',\n",
       "  'labels': ['ubi']},\n",
       " {'_id': ObjectId('66049fecd8cecdbff4d94f0d'),\n",
       "  'publisher': 'redhat',\n",
       "  'registry': 'registry.access.redhat.com',\n",
       "  'repository': 'ubi8/nodejs-20-minimal',\n",
       "  'tag': 'latest',\n",
       "  'labels': ['ubi']},\n",
       " {'_id': ObjectId('66049fecd8cecdbff4d94f0e'),\n",
       "  'publisher': 'redhat',\n",
       "  'registry': 'registry.access.redhat.com',\n",
       "  'repository': 'ubi8/nodejs-20',\n",
       "  'tag': 'latest',\n",
       "  'labels': ['ubi']},\n",
       " {'_id': ObjectId('66049fecd8cecdbff4d94f0f'),\n",
       "  'publisher': 'redhat',\n",
       "  'registry': 'registry.access.redhat.com',\n",
       "  'repository': 'ubi8/nginx-122',\n",
       "  'tag': 'latest',\n",
       "  'labels': ['ubi']},\n",
       " {'_id': ObjectId('66049fecd8cecdbff4d94f10'),\n",
       "  'publisher': 'redhat',\n",
       "  'registry': 'registry.access.redhat.com',\n",
       "  'repository': 'ubi8/go-toolset',\n",
       "  'tag': 'latest',\n",
       "  'labels': ['ubi']},\n",
       " {'_id': ObjectId('66049fecd8cecdbff4d94f11'),\n",
       "  'publisher': 'redhat',\n",
       "  'registry': 'registry.access.redhat.com',\n",
       "  'repository': 'ubi8/php-80',\n",
       "  'tag': 'latest',\n",
       "  'labels': ['ubi']},\n",
       " {'_id': ObjectId('66049fecd8cecdbff4d94f12'),\n",
       "  'publisher': 'redhat',\n",
       "  'registry': 'registry.access.redhat.com',\n",
       "  'repository': 'ubi8/dotnet-80-runtime',\n",
       "  'tag': 'latest',\n",
       "  'labels': ['ubi']},\n",
       " {'_id': ObjectId('66049fecd8cecdbff4d94f13'),\n",
       "  'publisher': 'redhat',\n",
       "  'registry': 'registry.access.redhat.com',\n",
       "  'repository': 'ubi8/dotnet-80',\n",
       "  'tag': 'latest',\n",
       "  'labels': ['ubi']},\n",
       " {'_id': ObjectId('66049fecd8cecdbff4d94f14'),\n",
       "  'publisher': 'redhat',\n",
       "  'registry': 'registry.access.redhat.com',\n",
       "  'repository': 'ubi9/openssl',\n",
       "  'tag': 'latest',\n",
       "  'labels': ['ubi']},\n",
       " {'_id': ObjectId('66049fecd8cecdbff4d94f15'),\n",
       "  'publisher': 'redhat',\n",
       "  'registry': 'registry.access.redhat.com',\n",
       "  'repository': 'ubi9/ruby-31',\n",
       "  'tag': 'latest',\n",
       "  'labels': ['ubi']},\n",
       " {'_id': ObjectId('66049fecd8cecdbff4d94f16'),\n",
       "  'publisher': 'redhat',\n",
       "  'registry': 'registry.access.redhat.com',\n",
       "  'repository': 'ubi9/python-311',\n",
       "  'tag': 'latest',\n",
       "  'labels': ['ubi']},\n",
       " {'_id': ObjectId('66049fecd8cecdbff4d94f17'),\n",
       "  'publisher': 'redhat',\n",
       "  'registry': 'registry.access.redhat.com',\n",
       "  'repository': 'ubi9/openjdk-17',\n",
       "  'tag': 'latest',\n",
       "  'labels': ['ubi']},\n",
       " {'_id': ObjectId('66049fecd8cecdbff4d94f18'),\n",
       "  'publisher': 'redhat',\n",
       "  'registry': 'registry.access.redhat.com',\n",
       "  'repository': 'ubi9/nodejs-20-minimal',\n",
       "  'tag': 'latest',\n",
       "  'labels': ['ubi']},\n",
       " {'_id': ObjectId('66049fecd8cecdbff4d94f19'),\n",
       "  'publisher': 'redhat',\n",
       "  'registry': 'registry.access.redhat.com',\n",
       "  'repository': 'ubi9/nodejs-20',\n",
       "  'tag': 'latest',\n",
       "  'labels': ['ubi']},\n",
       " {'_id': ObjectId('66049fecd8cecdbff4d94f1a'),\n",
       "  'publisher': 'redhat',\n",
       "  'registry': 'registry.access.redhat.com',\n",
       "  'repository': 'ubi9/nginx-120',\n",
       "  'tag': 'latest',\n",
       "  'labels': ['ubi']},\n",
       " {'_id': ObjectId('66049fecd8cecdbff4d94f1b'),\n",
       "  'publisher': 'redhat',\n",
       "  'registry': 'registry.access.redhat.com',\n",
       "  'repository': 'ubi9/go-toolset',\n",
       "  'tag': 'latest',\n",
       "  'labels': ['ubi']},\n",
       " {'_id': ObjectId('66049fecd8cecdbff4d94f1c'),\n",
       "  'publisher': 'redhat',\n",
       "  'registry': 'registry.access.redhat.com',\n",
       "  'repository': 'ubi9/ubi',\n",
       "  'tag': 'latest',\n",
       "  'labels': ['ubi']},\n",
       " {'_id': ObjectId('66049fecd8cecdbff4d94f1d'),\n",
       "  'publisher': 'redhat',\n",
       "  'registry': 'registry.access.redhat.com',\n",
       "  'repository': 'ubi9/ubi-init',\n",
       "  'tag': 'latest',\n",
       "  'labels': ['ubi']},\n",
       " {'_id': ObjectId('66049fecd8cecdbff4d94f1e'),\n",
       "  'publisher': 'redhat',\n",
       "  'registry': 'registry.access.redhat.com',\n",
       "  'repository': 'ubi9/ubi-micro',\n",
       "  'tag': 'latest',\n",
       "  'labels': ['ubi']},\n",
       " {'_id': ObjectId('66049fecd8cecdbff4d94f1f'),\n",
       "  'publisher': 'redhat',\n",
       "  'registry': 'registry.access.redhat.com',\n",
       "  'repository': 'ubi9/ubi-minimal',\n",
       "  'tag': 'latest',\n",
       "  'labels': ['ubi']},\n",
       " {'_id': ObjectId('66049fecd8cecdbff4d94f20'),\n",
       "  'publisher': 'redhat',\n",
       "  'registry': 'registry.access.redhat.com',\n",
       "  'repository': 'ubi8/ubi',\n",
       "  'tag': 'latest',\n",
       "  'labels': ['ubi']},\n",
       " {'_id': ObjectId('66049fecd8cecdbff4d94f21'),\n",
       "  'publisher': 'redhat',\n",
       "  'registry': 'registry.access.redhat.com',\n",
       "  'repository': 'ubi8/ubi-init',\n",
       "  'tag': 'latest',\n",
       "  'labels': ['ubi']},\n",
       " {'_id': ObjectId('66049fecd8cecdbff4d94f22'),\n",
       "  'publisher': 'redhat',\n",
       "  'registry': 'registry.access.redhat.com',\n",
       "  'repository': 'ubi8/ubi-micro',\n",
       "  'tag': 'latest',\n",
       "  'labels': ['ubi']},\n",
       " {'_id': ObjectId('66049fecd8cecdbff4d94f23'),\n",
       "  'publisher': 'redhat',\n",
       "  'registry': 'registry.access.redhat.com',\n",
       "  'repository': 'ubi8/ubi-minimal',\n",
       "  'tag': 'latest',\n",
       "  'labels': ['ubi']},\n",
       " {'_id': ObjectId('66049fecd8cecdbff4d94f24'),\n",
       "  'publisher': 'redhat',\n",
       "  'registry': 'registry.access.redhat.com',\n",
       "  'repository': 'ubi7/ubi',\n",
       "  'tag': 'latest',\n",
       "  'labels': ['ubi']},\n",
       " {'_id': ObjectId('66049fecd8cecdbff4d94f25'),\n",
       "  'publisher': 'redhat',\n",
       "  'registry': 'registry.access.redhat.com',\n",
       "  'repository': 'ubi7/ubi-init',\n",
       "  'tag': 'latest',\n",
       "  'labels': ['ubi']},\n",
       " {'_id': ObjectId('66049fecd8cecdbff4d94f26'),\n",
       "  'publisher': 'redhat',\n",
       "  'registry': 'registry.access.redhat.com',\n",
       "  'repository': 'ubi7/ubi-minimal',\n",
       "  'tag': 'latest',\n",
       "  'labels': ['ubi']},\n",
       " {'_id': ObjectId('66049fecd8cecdbff4d94f27'),\n",
       "  'publisher': 'chainguard',\n",
       "  'registry': 'cgr.dev',\n",
       "  'repository': 'chainguard/bash',\n",
       "  'tag': 'latest',\n",
       "  'labels': ['cgr-public']},\n",
       " {'_id': ObjectId('66049fecd8cecdbff4d94f28'),\n",
       "  'publisher': 'chainguard',\n",
       "  'registry': 'cgr.dev',\n",
       "  'repository': 'chainguard/busybox',\n",
       "  'tag': 'latest',\n",
       "  'labels': ['cgr-public']},\n",
       " {'_id': ObjectId('66049fecd8cecdbff4d94f29'),\n",
       "  'publisher': 'chainguard',\n",
       "  'registry': 'cgr.dev',\n",
       "  'repository': 'chainguard/cosign',\n",
       "  'tag': 'latest',\n",
       "  'labels': ['cgr-public']},\n",
       " {'_id': ObjectId('66049fecd8cecdbff4d94f2a'),\n",
       "  'publisher': 'chainguard',\n",
       "  'registry': 'cgr.dev',\n",
       "  'repository': 'chainguard/crane',\n",
       "  'tag': 'latest',\n",
       "  'labels': ['cgr-public']},\n",
       " {'_id': ObjectId('66049fecd8cecdbff4d94f2b'),\n",
       "  'publisher': 'chainguard',\n",
       "  'registry': 'cgr.dev',\n",
       "  'repository': 'chainguard/curl',\n",
       "  'tag': 'latest',\n",
       "  'labels': ['cgr-public']},\n",
       " {'_id': ObjectId('66049fecd8cecdbff4d94f2c'),\n",
       "  'publisher': 'chainguard',\n",
       "  'registry': 'cgr.dev',\n",
       "  'repository': 'chainguard/dive',\n",
       "  'tag': 'latest',\n",
       "  'labels': ['cgr-public']},\n",
       " {'_id': ObjectId('66049fecd8cecdbff4d94f2d'),\n",
       "  'publisher': 'chainguard',\n",
       "  'registry': 'cgr.dev',\n",
       "  'repository': 'chainguard/flux',\n",
       "  'tag': 'latest',\n",
       "  'labels': ['cgr-public']},\n",
       " {'_id': ObjectId('66049fecd8cecdbff4d94f2e'),\n",
       "  'publisher': 'chainguard',\n",
       "  'registry': 'cgr.dev',\n",
       "  'repository': 'chainguard/gcc-glibc',\n",
       "  'tag': 'latest',\n",
       "  'labels': ['cgr-public']},\n",
       " {'_id': ObjectId('66049fecd8cecdbff4d94f2f'),\n",
       "  'publisher': 'chainguard',\n",
       "  'registry': 'cgr.dev',\n",
       "  'repository': 'chainguard/git',\n",
       "  'tag': 'latest',\n",
       "  'labels': ['cgr-public']},\n",
       " {'_id': ObjectId('66049fecd8cecdbff4d94f30'),\n",
       "  'publisher': 'chainguard',\n",
       "  'registry': 'cgr.dev',\n",
       "  'repository': 'chainguard/glibc-dynamic',\n",
       "  'tag': 'latest',\n",
       "  'labels': ['cgr-public']},\n",
       " {'_id': ObjectId('66049fecd8cecdbff4d94f31'),\n",
       "  'publisher': 'chainguard',\n",
       "  'registry': 'cgr.dev',\n",
       "  'repository': 'chainguard/go',\n",
       "  'tag': 'latest',\n",
       "  'labels': ['cgr-public']},\n",
       " {'_id': ObjectId('66049fecd8cecdbff4d94f32'),\n",
       "  'publisher': 'chainguard',\n",
       "  'registry': 'cgr.dev',\n",
       "  'repository': 'chainguard/haproxy',\n",
       "  'tag': 'latest',\n",
       "  'labels': ['cgr-public']},\n",
       " {'_id': ObjectId('66049fecd8cecdbff4d94f33'),\n",
       "  'publisher': 'chainguard',\n",
       "  'registry': 'cgr.dev',\n",
       "  'repository': 'chainguard/helm',\n",
       "  'tag': 'latest',\n",
       "  'labels': ['cgr-public']},\n",
       " {'_id': ObjectId('66049fecd8cecdbff4d94f34'),\n",
       "  'publisher': 'chainguard',\n",
       "  'registry': 'cgr.dev',\n",
       "  'repository': 'chainguard/influxdb',\n",
       "  'tag': 'latest',\n",
       "  'labels': ['cgr-public']},\n",
       " {'_id': ObjectId('66049fecd8cecdbff4d94f35'),\n",
       "  'publisher': 'chainguard',\n",
       "  'registry': 'cgr.dev',\n",
       "  'repository': 'chainguard/jre',\n",
       "  'tag': 'latest',\n",
       "  'labels': ['cgr-public']},\n",
       " {'_id': ObjectId('66049fecd8cecdbff4d94f36'),\n",
       "  'publisher': 'chainguard',\n",
       "  'registry': 'cgr.dev',\n",
       "  'repository': 'chainguard/k3s',\n",
       "  'tag': 'latest',\n",
       "  'labels': ['cgr-public']},\n",
       " {'_id': ObjectId('66049fecd8cecdbff4d94f37'),\n",
       "  'publisher': 'chainguard',\n",
       "  'registry': 'cgr.dev',\n",
       "  'repository': 'chainguard/ko',\n",
       "  'tag': 'latest',\n",
       "  'labels': ['cgr-public']},\n",
       " {'_id': ObjectId('66049fecd8cecdbff4d94f38'),\n",
       "  'publisher': 'chainguard',\n",
       "  'registry': 'cgr.dev',\n",
       "  'repository': 'chainguard/kubectl',\n",
       "  'tag': 'latest',\n",
       "  'labels': ['cgr-public']},\n",
       " {'_id': ObjectId('66049fecd8cecdbff4d94f39'),\n",
       "  'publisher': 'chainguard',\n",
       "  'registry': 'cgr.dev',\n",
       "  'repository': 'chainguard/mariadb',\n",
       "  'tag': 'latest',\n",
       "  'labels': ['cgr-public']},\n",
       " {'_id': ObjectId('66049fecd8cecdbff4d94f3a'),\n",
       "  'publisher': 'chainguard',\n",
       "  'registry': 'cgr.dev',\n",
       "  'repository': 'chainguard/minio',\n",
       "  'tag': 'latest',\n",
       "  'labels': ['cgr-public']},\n",
       " {'_id': ObjectId('66049fecd8cecdbff4d94f3b'),\n",
       "  'publisher': 'chainguard',\n",
       "  'registry': 'cgr.dev',\n",
       "  'repository': 'chainguard/minio-client',\n",
       "  'tag': 'latest',\n",
       "  'labels': ['cgr-public']},\n",
       " {'_id': ObjectId('66049fecd8cecdbff4d94f3c'),\n",
       "  'publisher': 'chainguard',\n",
       "  'registry': 'cgr.dev',\n",
       "  'repository': 'chainguard/musl-dynamic',\n",
       "  'tag': 'latest',\n",
       "  'labels': ['cgr-public']},\n",
       " {'_id': ObjectId('66049fecd8cecdbff4d94f3d'),\n",
       "  'publisher': 'chainguard',\n",
       "  'registry': 'cgr.dev',\n",
       "  'repository': 'chainguard/netcat',\n",
       "  'tag': 'latest',\n",
       "  'labels': ['cgr-public']},\n",
       " {'_id': ObjectId('66049fecd8cecdbff4d94f3e'),\n",
       "  'publisher': 'chainguard',\n",
       "  'registry': 'cgr.dev',\n",
       "  'repository': 'chainguard/nginx',\n",
       "  'tag': 'latest',\n",
       "  'labels': ['cgr-public']},\n",
       " {'_id': ObjectId('66049fecd8cecdbff4d94f3f'),\n",
       "  'publisher': 'chainguard',\n",
       "  'registry': 'cgr.dev',\n",
       "  'repository': 'chainguard/node',\n",
       "  'tag': 'latest',\n",
       "  'labels': ['cgr-public']},\n",
       " {'_id': ObjectId('66049fecd8cecdbff4d94f40'),\n",
       "  'publisher': 'chainguard',\n",
       "  'registry': 'cgr.dev',\n",
       "  'repository': 'chainguard/python',\n",
       "  'tag': 'latest',\n",
       "  'labels': ['cgr-public']},\n",
       " {'_id': ObjectId('66049fecd8cecdbff4d94f41'),\n",
       "  'publisher': 'chainguard',\n",
       "  'registry': 'cgr.dev',\n",
       "  'repository': 'chainguard/redis',\n",
       "  'tag': 'latest',\n",
       "  'labels': ['cgr-public']},\n",
       " {'_id': ObjectId('66049fecd8cecdbff4d94f42'),\n",
       "  'publisher': 'chainguard',\n",
       "  'registry': 'cgr.dev',\n",
       "  'repository': 'chainguard/ruby',\n",
       "  'tag': 'latest',\n",
       "  'labels': ['cgr-public']},\n",
       " {'_id': ObjectId('66049fecd8cecdbff4d94f43'),\n",
       "  'publisher': 'chainguard',\n",
       "  'registry': 'cgr.dev',\n",
       "  'repository': 'chainguard/static',\n",
       "  'tag': 'latest',\n",
       "  'labels': ['cgr-public']},\n",
       " {'_id': ObjectId('66049fecd8cecdbff4d94f44'),\n",
       "  'publisher': 'chainguard',\n",
       "  'registry': 'cgr.dev',\n",
       "  'repository': 'chainguard/telegraf',\n",
       "  'tag': 'latest',\n",
       "  'labels': ['cgr-public']},\n",
       " {'_id': ObjectId('66049fecd8cecdbff4d94f45'),\n",
       "  'publisher': 'chainguard',\n",
       "  'registry': 'cgr.dev',\n",
       "  'repository': 'chainguard/wait-for-it',\n",
       "  'tag': 'latest',\n",
       "  'labels': ['cgr-public']},\n",
       " {'_id': ObjectId('66049fecd8cecdbff4d94f46'),\n",
       "  'publisher': 'chainguard',\n",
       "  'registry': 'cgr.dev',\n",
       "  'repository': 'chainguard/wolfi-base',\n",
       "  'tag': 'latest',\n",
       "  'labels': ['cgr-public']},\n",
       " {'_id': ObjectId('66049fecd8cecdbff4d94f47'),\n",
       "  'publisher': 'chainguard',\n",
       "  'registry': 'cgr.dev',\n",
       "  'repository': 'chainguard/zookeeper',\n",
       "  'tag': 'latest',\n",
       "  'labels': ['cgr-public']}]"
      ]
     },
     "execution_count": 20,
     "metadata": {},
     "output_type": "execute_result"
    }
   ],
   "source": [
    "image_dicts"
   ]
  },
  {
   "cell_type": "code",
   "execution_count": 8,
   "metadata": {},
   "outputs": [
    {
     "name": "stderr",
     "output_type": "stream",
     "text": [
      "Scanning Images:   0%|          | 0/33 [00:00<?, ?it/s]"
     ]
    },
    {
     "name": "stdout",
     "output_type": "stream",
     "text": [
      "cgr.dev/chainguard/bash:latest\n"
     ]
    },
    {
     "name": "stderr",
     "output_type": "stream",
     "text": [
      "Scanning Images:   3%|▎         | 1/33 [00:22<12:09, 22.81s/it]"
     ]
    },
    {
     "name": "stdout",
     "output_type": "stream",
     "text": [
      "cgr.dev/chainguard/busybox:latest\n"
     ]
    },
    {
     "name": "stderr",
     "output_type": "stream",
     "text": [
      "Scanning Images:   6%|▌         | 2/33 [00:24<05:22, 10.41s/it]"
     ]
    },
    {
     "name": "stdout",
     "output_type": "stream",
     "text": [
      "cgr.dev/chainguard/cosign:latest\n"
     ]
    },
    {
     "name": "stderr",
     "output_type": "stream",
     "text": [
      "Scanning Images:   9%|▉         | 3/33 [00:40<06:27, 12.91s/it]"
     ]
    },
    {
     "name": "stdout",
     "output_type": "stream",
     "text": [
      "cgr.dev/chainguard/crane:latest\n"
     ]
    },
    {
     "name": "stderr",
     "output_type": "stream",
     "text": [
      "Scanning Images:  12%|█▏        | 4/33 [00:42<04:12,  8.70s/it]"
     ]
    },
    {
     "name": "stdout",
     "output_type": "stream",
     "text": [
      "cgr.dev/chainguard/curl:latest\n"
     ]
    },
    {
     "name": "stderr",
     "output_type": "stream",
     "text": [
      "Scanning Images:  15%|█▌        | 5/33 [00:45<03:04,  6.59s/it]"
     ]
    },
    {
     "name": "stdout",
     "output_type": "stream",
     "text": [
      "cgr.dev/chainguard/dive:latest\n"
     ]
    },
    {
     "name": "stderr",
     "output_type": "stream",
     "text": [
      "Scanning Images:  18%|█▊        | 6/33 [00:48<02:22,  5.28s/it]"
     ]
    },
    {
     "name": "stdout",
     "output_type": "stream",
     "text": [
      "cgr.dev/chainguard/flux:latest\n"
     ]
    },
    {
     "name": "stderr",
     "output_type": "stream",
     "text": [
      "Scanning Images:  21%|██        | 7/33 [00:53<02:18,  5.32s/it]"
     ]
    },
    {
     "name": "stdout",
     "output_type": "stream",
     "text": [
      "cgr.dev/chainguard/gcc-glibc:latest\n"
     ]
    },
    {
     "name": "stderr",
     "output_type": "stream",
     "text": [
      "Scanning Images:  24%|██▍       | 8/33 [01:13<04:06,  9.85s/it]"
     ]
    },
    {
     "name": "stdout",
     "output_type": "stream",
     "text": [
      "cgr.dev/chainguard/git:latest\n"
     ]
    },
    {
     "name": "stderr",
     "output_type": "stream",
     "text": [
      "Scanning Images:  27%|██▋       | 9/33 [01:18<03:19,  8.31s/it]"
     ]
    },
    {
     "name": "stdout",
     "output_type": "stream",
     "text": [
      "cgr.dev/chainguard/glibc-dynamic:latest\n"
     ]
    },
    {
     "name": "stderr",
     "output_type": "stream",
     "text": [
      "Scanning Images:  30%|███       | 10/33 [01:20<02:30,  6.52s/it]"
     ]
    },
    {
     "name": "stdout",
     "output_type": "stream",
     "text": [
      "cgr.dev/chainguard/go:latest\n"
     ]
    },
    {
     "name": "stderr",
     "output_type": "stream",
     "text": [
      "Scanning Images:  33%|███▎      | 11/33 [01:52<05:17, 14.41s/it]"
     ]
    },
    {
     "name": "stdout",
     "output_type": "stream",
     "text": [
      "cgr.dev/chainguard/haproxy:latest\n"
     ]
    },
    {
     "name": "stderr",
     "output_type": "stream",
     "text": [
      "Scanning Images:  36%|███▋      | 12/33 [01:57<03:56, 11.28s/it]"
     ]
    },
    {
     "name": "stdout",
     "output_type": "stream",
     "text": [
      "cgr.dev/chainguard/helm:latest\n"
     ]
    },
    {
     "name": "stderr",
     "output_type": "stream",
     "text": [
      "Scanning Images:  39%|███▉      | 13/33 [02:04<03:22, 10.10s/it]"
     ]
    },
    {
     "name": "stdout",
     "output_type": "stream",
     "text": [
      "cgr.dev/chainguard/influxdb:latest\n"
     ]
    },
    {
     "name": "stderr",
     "output_type": "stream",
     "text": [
      "Scanning Images:  42%|████▏     | 14/33 [02:11<02:55,  9.23s/it]"
     ]
    },
    {
     "name": "stdout",
     "output_type": "stream",
     "text": [
      "cgr.dev/chainguard/jre:latest\n"
     ]
    },
    {
     "name": "stderr",
     "output_type": "stream",
     "text": [
      "Scanning Images:  45%|████▌     | 15/33 [02:21<02:49,  9.44s/it]"
     ]
    },
    {
     "name": "stdout",
     "output_type": "stream",
     "text": [
      "cgr.dev/chainguard/k3s:latest\n"
     ]
    },
    {
     "name": "stderr",
     "output_type": "stream",
     "text": [
      "Scanning Images:  48%|████▊     | 16/33 [02:40<03:29, 12.33s/it]"
     ]
    },
    {
     "name": "stdout",
     "output_type": "stream",
     "text": [
      "cgr.dev/chainguard/ko:latest\n"
     ]
    },
    {
     "name": "stderr",
     "output_type": "stream",
     "text": [
      "Scanning Images:  52%|█████▏    | 17/33 [03:29<06:11, 23.23s/it]"
     ]
    },
    {
     "name": "stdout",
     "output_type": "stream",
     "text": [
      "cgr.dev/chainguard/kubectl:latest\n"
     ]
    },
    {
     "name": "stderr",
     "output_type": "stream",
     "text": [
      "Scanning Images:  55%|█████▍    | 18/33 [03:33<04:24, 17.63s/it]"
     ]
    },
    {
     "name": "stdout",
     "output_type": "stream",
     "text": [
      "cgr.dev/chainguard/mariadb:latest\n"
     ]
    },
    {
     "name": "stderr",
     "output_type": "stream",
     "text": [
      "Scanning Images:  58%|█████▊    | 19/33 [03:47<03:50, 16.46s/it]"
     ]
    },
    {
     "name": "stdout",
     "output_type": "stream",
     "text": [
      "cgr.dev/chainguard/minio:latest\n"
     ]
    },
    {
     "name": "stderr",
     "output_type": "stream",
     "text": [
      "Scanning Images:  61%|██████    | 20/33 [03:55<03:02, 14.01s/it]"
     ]
    },
    {
     "name": "stdout",
     "output_type": "stream",
     "text": [
      "cgr.dev/chainguard/minio-client:latest\n"
     ]
    },
    {
     "name": "stderr",
     "output_type": "stream",
     "text": [
      "Scanning Images:  64%|██████▎   | 21/33 [04:00<02:13, 11.09s/it]"
     ]
    },
    {
     "name": "stdout",
     "output_type": "stream",
     "text": [
      "cgr.dev/chainguard/musl-dynamic:latest\n"
     ]
    },
    {
     "name": "stderr",
     "output_type": "stream",
     "text": [
      "Scanning Images:  67%|██████▋   | 22/33 [04:02<01:32,  8.37s/it]"
     ]
    },
    {
     "name": "stdout",
     "output_type": "stream",
     "text": [
      "cgr.dev/chainguard/netcat:latest\n"
     ]
    },
    {
     "name": "stderr",
     "output_type": "stream",
     "text": [
      "Scanning Images:  70%|██████▉   | 23/33 [04:05<01:07,  6.77s/it]"
     ]
    },
    {
     "name": "stdout",
     "output_type": "stream",
     "text": [
      "cgr.dev/chainguard/nginx:latest\n"
     ]
    },
    {
     "name": "stderr",
     "output_type": "stream",
     "text": [
      "Scanning Images:  73%|███████▎  | 24/33 [04:07<00:49,  5.51s/it]"
     ]
    },
    {
     "name": "stdout",
     "output_type": "stream",
     "text": [
      "cgr.dev/chainguard/node:latest\n"
     ]
    },
    {
     "name": "stderr",
     "output_type": "stream",
     "text": [
      "Scanning Images:  76%|███████▌  | 25/33 [04:16<00:52,  6.51s/it]"
     ]
    },
    {
     "name": "stdout",
     "output_type": "stream",
     "text": [
      "cgr.dev/chainguard/python:latest\n"
     ]
    },
    {
     "name": "stderr",
     "output_type": "stream",
     "text": [
      "Scanning Images:  79%|███████▉  | 26/33 [04:20<00:40,  5.85s/it]"
     ]
    },
    {
     "name": "stdout",
     "output_type": "stream",
     "text": [
      "cgr.dev/chainguard/redis:latest\n"
     ]
    },
    {
     "name": "stderr",
     "output_type": "stream",
     "text": [
      "Scanning Images:  82%|████████▏ | 27/33 [04:23<00:29,  4.92s/it]"
     ]
    },
    {
     "name": "stdout",
     "output_type": "stream",
     "text": [
      "cgr.dev/chainguard/ruby:latest\n"
     ]
    },
    {
     "name": "stderr",
     "output_type": "stream",
     "text": [
      "Scanning Images:  85%|████████▍ | 28/33 [04:28<00:24,  4.80s/it]"
     ]
    },
    {
     "name": "stdout",
     "output_type": "stream",
     "text": [
      "cgr.dev/chainguard/static:latest\n"
     ]
    },
    {
     "name": "stderr",
     "output_type": "stream",
     "text": [
      "Scanning Images:  88%|████████▊ | 29/33 [04:30<00:15,  3.96s/it]"
     ]
    },
    {
     "name": "stdout",
     "output_type": "stream",
     "text": [
      "cgr.dev/chainguard/telegraf:latest\n"
     ]
    },
    {
     "name": "stderr",
     "output_type": "stream",
     "text": [
      "Scanning Images:  91%|█████████ | 30/33 [04:37<00:15,  5.03s/it]"
     ]
    },
    {
     "name": "stdout",
     "output_type": "stream",
     "text": [
      "cgr.dev/chainguard/wait-for-it:latest\n"
     ]
    },
    {
     "name": "stderr",
     "output_type": "stream",
     "text": [
      "Scanning Images:  94%|█████████▍| 31/33 [04:43<00:10,  5.13s/it]"
     ]
    },
    {
     "name": "stdout",
     "output_type": "stream",
     "text": [
      "cgr.dev/chainguard/wolfi-base:latest\n"
     ]
    },
    {
     "name": "stderr",
     "output_type": "stream",
     "text": [
      "Scanning Images:  97%|█████████▋| 32/33 [04:45<00:04,  4.26s/it]"
     ]
    },
    {
     "name": "stdout",
     "output_type": "stream",
     "text": [
      "cgr.dev/chainguard/zookeeper:latest\n"
     ]
    },
    {
     "name": "stderr",
     "output_type": "stream",
     "text": [
      "Scanning Images: 100%|██████████| 33/33 [05:04<00:00,  9.21s/it]\n"
     ]
    }
   ],
   "source": [
    "scanner = ImageScanner()\n",
    "snapshots = scanner.scan(images)"
   ]
  },
  {
   "cell_type": "code",
   "execution_count": 16,
   "metadata": {},
   "outputs": [],
   "source": [
    "snapshot_df = pd.concat([snap.components_as_pandas() for snap in snapshots])\n",
    "names = snapshot_df[\"name\"].unique()\n",
    "pd.DataFrame({\"package\": names}).to_csv(\"wolfi-packages.csv\", index=False)"
   ]
  },
  {
   "cell_type": "code",
   "execution_count": 21,
   "metadata": {},
   "outputs": [
    {
     "name": "stdout",
     "output_type": "stream",
     "text": [
      "cgr.dev/chainguard/go:latest\n",
      "2024-04-05 16:35:15.474705+00:00\n"
     ]
    }
   ],
   "source": [
    "for snap in snapshots:\n",
    "    packages = [c.name for c in snap.components]\n",
    "    if \"openssh\" in packages:\n",
    "        print(snap.image)\n",
    "        print(snap.scanned_at)"
   ]
  },
  {
   "cell_type": "code",
   "execution_count": 29,
   "metadata": {},
   "outputs": [
    {
     "name": "stdout",
     "output_type": "stream",
     "text": [
      "Docker.io Official\n"
     ]
    },
    {
     "data": {
      "text/plain": [
       "177.4936559408927"
      ]
     },
     "execution_count": 29,
     "metadata": {},
     "output_type": "execute_result"
    }
   ],
   "source": [
    "print(\"Docker.io Official\")\n",
    "docker_mask = rtime_df[\"registry\"] == \"docker.io\"\n",
    "ubuntu_mask = rtime_df[\"repository\"].str.contains(\"ubuntu\")\n",
    "rtime_df[docker_mask & ~ubuntu_mask][\"rtime\"].mean()"
   ]
  },
  {
   "cell_type": "code",
   "execution_count": 18,
   "metadata": {},
   "outputs": [
    {
     "name": "stdout",
     "output_type": "stream",
     "text": [
      "Docker.io Ubuntu Chiselled\n"
     ]
    },
    {
     "data": {
      "text/plain": [
       "201.80778568966485"
      ]
     },
     "execution_count": 18,
     "metadata": {},
     "output_type": "execute_result"
    }
   ],
   "source": [
    "print(\"Docker.io Ubuntu Chiselled\")\n",
    "rtime_df[rtime_df[\"repository\"].str.contains(\"ubuntu\")][\"rtime\"].mean()"
   ]
  }
 ],
 "metadata": {
  "kernelspec": {
   "display_name": ".env",
   "language": "python",
   "name": "python3"
  },
  "language_info": {
   "codemirror_mode": {
    "name": "ipython",
    "version": 3
   },
   "file_extension": ".py",
   "mimetype": "text/x-python",
   "name": "python",
   "nbconvert_exporter": "python",
   "pygments_lexer": "ipython3",
   "version": "3.10.12"
  }
 },
 "nbformat": 4,
 "nbformat_minor": 2
}
